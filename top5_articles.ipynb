{
 "cells": [
  {
   "cell_type": "code",
   "execution_count": 31,
   "metadata": {},
   "outputs": [],
   "source": [
    "\n",
    "from splinter import Browser\n",
    "from bs4 import BeautifulSoup\n",
    "from webdriver_manager.chrome import ChromeDriverManager\n",
    "from pprint import pprint\n",
    "import pandas as pd\n",
    "import pymongo\n",
    "import csv\n",
    "import json\n",
    "from pymongo import MongoClient\n",
    "\n",
    "\n",
    " "
   ]
  },
  {
   "cell_type": "code",
   "execution_count": 15,
   "metadata": {},
   "outputs": [
    {
     "data": {
      "text/html": [
       "<div>\n",
       "<style scoped>\n",
       "    .dataframe tbody tr th:only-of-type {\n",
       "        vertical-align: middle;\n",
       "    }\n",
       "\n",
       "    .dataframe tbody tr th {\n",
       "        vertical-align: top;\n",
       "    }\n",
       "\n",
       "    .dataframe thead th {\n",
       "        text-align: right;\n",
       "    }\n",
       "</style>\n",
       "<table border=\"1\" class=\"dataframe\">\n",
       "  <thead>\n",
       "    <tr style=\"text-align: right;\">\n",
       "      <th></th>\n",
       "      <th>Unnamed: 0</th>\n",
       "      <th>Closing Price1</th>\n",
       "      <th>Closing Price2</th>\n",
       "      <th>dif</th>\n",
       "      <th>Ticker</th>\n",
       "    </tr>\n",
       "  </thead>\n",
       "  <tbody>\n",
       "    <tr>\n",
       "      <th>0</th>\n",
       "      <td>0</td>\n",
       "      <td>4906.22</td>\n",
       "      <td>4800.00</td>\n",
       "      <td>106.22</td>\n",
       "      <td>NVR</td>\n",
       "    </tr>\n",
       "    <tr>\n",
       "      <th>1</th>\n",
       "      <td>1</td>\n",
       "      <td>549.57</td>\n",
       "      <td>508.90</td>\n",
       "      <td>40.67</td>\n",
       "      <td>NFLX</td>\n",
       "    </tr>\n",
       "    <tr>\n",
       "      <th>2</th>\n",
       "      <td>2</td>\n",
       "      <td>1514.11</td>\n",
       "      <td>1486.89</td>\n",
       "      <td>27.22</td>\n",
       "      <td>AZO</td>\n",
       "    </tr>\n",
       "    <tr>\n",
       "      <th>3</th>\n",
       "      <td>3</td>\n",
       "      <td>1532.09</td>\n",
       "      <td>1507.62</td>\n",
       "      <td>24.47</td>\n",
       "      <td>CMG</td>\n",
       "    </tr>\n",
       "    <tr>\n",
       "      <th>4</th>\n",
       "      <td>4</td>\n",
       "      <td>499.56</td>\n",
       "      <td>491.37</td>\n",
       "      <td>8.19</td>\n",
       "      <td>WM</td>\n",
       "    </tr>\n",
       "    <tr>\n",
       "      <th>...</th>\n",
       "      <td>...</td>\n",
       "      <td>...</td>\n",
       "      <td>...</td>\n",
       "      <td>...</td>\n",
       "      <td>...</td>\n",
       "    </tr>\n",
       "    <tr>\n",
       "      <th>482</th>\n",
       "      <td>482</td>\n",
       "      <td>718.99</td>\n",
       "      <td>744.12</td>\n",
       "      <td>-25.13</td>\n",
       "      <td>TSLA</td>\n",
       "    </tr>\n",
       "    <tr>\n",
       "      <th>483</th>\n",
       "      <td>483</td>\n",
       "      <td>3334.69</td>\n",
       "      <td>3362.02</td>\n",
       "      <td>-27.33</td>\n",
       "      <td>AMZN</td>\n",
       "    </tr>\n",
       "    <tr>\n",
       "      <th>484</th>\n",
       "      <td>484</td>\n",
       "      <td>613.03</td>\n",
       "      <td>641.25</td>\n",
       "      <td>-28.22</td>\n",
       "      <td>LRCX</td>\n",
       "    </tr>\n",
       "    <tr>\n",
       "      <th>485</th>\n",
       "      <td>485</td>\n",
       "      <td>1276.91</td>\n",
       "      <td>1311.14</td>\n",
       "      <td>-34.23</td>\n",
       "      <td>MTD</td>\n",
       "    </tr>\n",
       "    <tr>\n",
       "      <th>486</th>\n",
       "      <td>486</td>\n",
       "      <td>811.11</td>\n",
       "      <td>891.38</td>\n",
       "      <td>-80.27</td>\n",
       "      <td>ISRG</td>\n",
       "    </tr>\n",
       "  </tbody>\n",
       "</table>\n",
       "<p>487 rows × 5 columns</p>\n",
       "</div>"
      ],
      "text/plain": [
       "     Unnamed: 0  Closing Price1  Closing Price2     dif Ticker\n",
       "0             0         4906.22         4800.00  106.22    NVR\n",
       "1             1          549.57          508.90   40.67   NFLX\n",
       "2             2         1514.11         1486.89   27.22    AZO\n",
       "3             3         1532.09         1507.62   24.47    CMG\n",
       "4             4          499.56          491.37    8.19     WM\n",
       "..          ...             ...             ...     ...    ...\n",
       "482         482          718.99          744.12  -25.13   TSLA\n",
       "483         483         3334.69         3362.02  -27.33   AMZN\n",
       "484         484          613.03          641.25  -28.22   LRCX\n",
       "485         485         1276.91         1311.14  -34.23    MTD\n",
       "486         486          811.11          891.38  -80.27   ISRG\n",
       "\n",
       "[487 rows x 5 columns]"
      ]
     },
     "execution_count": 15,
     "metadata": {},
     "output_type": "execute_result"
    }
   ],
   "source": [
    "df = pd.read_csv('./priceList.csv')\n",
    "df\n"
   ]
  },
  {
   "cell_type": "code",
   "execution_count": 22,
   "metadata": {},
   "outputs": [],
   "source": [
    "top10 = []\n",
    "for i in range(10):\n",
    "    top10.append(df.loc[i][4])\n"
   ]
  },
  {
   "cell_type": "code",
   "execution_count": 23,
   "metadata": {},
   "outputs": [
    {
     "name": "stdout",
     "output_type": "stream",
     "text": [
      "['NVR', 'NFLX', 'AZO', 'CMG', 'WM', 'MKTX', 'BIIB', 'DPZ', 'ORLY', 'ORCL']\n"
     ]
    }
   ],
   "source": [
    "print(top10)"
   ]
  },
  {
   "cell_type": "code",
   "execution_count": 25,
   "metadata": {},
   "outputs": [
    {
     "name": "stderr",
     "output_type": "stream",
     "text": [
      "[WDM] - ====== WebDriver manager ======\n",
      "[WDM] - Current google-chrome version is 90.0.4430\n",
      "[WDM] - Get LATEST driver version for 90.0.4430\n"
     ]
    },
    {
     "name": "stdout",
     "output_type": "stream",
     "text": [
      "xnys block\n",
      "\n",
      "\n"
     ]
    },
    {
     "name": "stderr",
     "output_type": "stream",
     "text": [
      "[WDM] - Driver [/Users/tourtoiseshell/.wdm/drivers/chromedriver/mac64/90.0.4430.24/chromedriver] found in cache\n"
     ]
    },
    {
     "name": "stdout",
     "output_type": "stream",
     "text": [
      "https://www.morningstar.com/stocks/xnys/NVR/quote\n"
     ]
    },
    {
     "name": "stderr",
     "output_type": "stream",
     "text": [
      "[WDM] - ====== WebDriver manager ======\n",
      "[WDM] - Current google-chrome version is 90.0.4430\n",
      "[WDM] - Get LATEST driver version for 90.0.4430\n"
     ]
    },
    {
     "name": "stdout",
     "output_type": "stream",
     "text": [
      "Skipped due to error\n",
      "xnys block\n",
      "\n",
      "\n"
     ]
    },
    {
     "name": "stderr",
     "output_type": "stream",
     "text": [
      "[WDM] - Driver [/Users/tourtoiseshell/.wdm/drivers/chromedriver/mac64/90.0.4430.24/chromedriver] found in cache\n"
     ]
    },
    {
     "name": "stdout",
     "output_type": "stream",
     "text": [
      "https://www.morningstar.com/stocks/xnys/NFLX/quote\n"
     ]
    },
    {
     "name": "stderr",
     "output_type": "stream",
     "text": [
      "[WDM] - ====== WebDriver manager ======\n",
      "[WDM] - Current google-chrome version is 90.0.4430\n",
      "[WDM] - Get LATEST driver version for 90.0.4430\n"
     ]
    },
    {
     "name": "stdout",
     "output_type": "stream",
     "text": [
      "Skipped due to error\n",
      "xnys block\n",
      "\n",
      "\n"
     ]
    },
    {
     "name": "stderr",
     "output_type": "stream",
     "text": [
      "[WDM] - Driver [/Users/tourtoiseshell/.wdm/drivers/chromedriver/mac64/90.0.4430.24/chromedriver] found in cache\n"
     ]
    },
    {
     "name": "stdout",
     "output_type": "stream",
     "text": [
      "https://www.morningstar.com/stocks/xnys/AZO/quote\n"
     ]
    },
    {
     "name": "stderr",
     "output_type": "stream",
     "text": [
      "[WDM] - ====== WebDriver manager ======\n"
     ]
    },
    {
     "name": "stdout",
     "output_type": "stream",
     "text": [
      "Skipped due to error\n",
      "xnys block\n",
      "\n",
      "\n"
     ]
    },
    {
     "name": "stderr",
     "output_type": "stream",
     "text": [
      "[WDM] - Current google-chrome version is 90.0.4430\n",
      "[WDM] - Get LATEST driver version for 90.0.4430\n",
      "[WDM] - Driver [/Users/tourtoiseshell/.wdm/drivers/chromedriver/mac64/90.0.4430.24/chromedriver] found in cache\n"
     ]
    },
    {
     "name": "stdout",
     "output_type": "stream",
     "text": [
      "https://www.morningstar.com/stocks/xnys/CMG/quote\n"
     ]
    },
    {
     "name": "stderr",
     "output_type": "stream",
     "text": [
      "[WDM] - ====== WebDriver manager ======\n"
     ]
    },
    {
     "name": "stdout",
     "output_type": "stream",
     "text": [
      "Skipped due to error\n",
      "xnys block\n",
      "\n",
      "\n"
     ]
    },
    {
     "name": "stderr",
     "output_type": "stream",
     "text": [
      "[WDM] - Current google-chrome version is 90.0.4430\n",
      "[WDM] - Get LATEST driver version for 90.0.4430\n",
      "[WDM] - Driver [/Users/tourtoiseshell/.wdm/drivers/chromedriver/mac64/90.0.4430.24/chromedriver] found in cache\n"
     ]
    },
    {
     "name": "stdout",
     "output_type": "stream",
     "text": [
      "https://www.morningstar.com/stocks/xnys/WM/quote\n"
     ]
    },
    {
     "name": "stderr",
     "output_type": "stream",
     "text": [
      "[WDM] - ====== WebDriver manager ======\n"
     ]
    },
    {
     "name": "stdout",
     "output_type": "stream",
     "text": [
      "Skipped due to error\n",
      "xnys block\n",
      "\n",
      "\n"
     ]
    },
    {
     "name": "stderr",
     "output_type": "stream",
     "text": [
      "[WDM] - Current google-chrome version is 90.0.4430\n",
      "[WDM] - Get LATEST driver version for 90.0.4430\n",
      "[WDM] - Driver [/Users/tourtoiseshell/.wdm/drivers/chromedriver/mac64/90.0.4430.24/chromedriver] found in cache\n"
     ]
    },
    {
     "name": "stdout",
     "output_type": "stream",
     "text": [
      "https://www.morningstar.com/stocks/xnys/MKTX/quote\n"
     ]
    },
    {
     "name": "stderr",
     "output_type": "stream",
     "text": [
      "[WDM] - ====== WebDriver manager ======\n"
     ]
    },
    {
     "name": "stdout",
     "output_type": "stream",
     "text": [
      "Skipped due to error\n",
      "xnys block\n",
      "\n",
      "\n"
     ]
    },
    {
     "name": "stderr",
     "output_type": "stream",
     "text": [
      "[WDM] - Current google-chrome version is 90.0.4430\n",
      "[WDM] - Get LATEST driver version for 90.0.4430\n",
      "[WDM] - Driver [/Users/tourtoiseshell/.wdm/drivers/chromedriver/mac64/90.0.4430.24/chromedriver] found in cache\n"
     ]
    },
    {
     "name": "stdout",
     "output_type": "stream",
     "text": [
      "https://www.morningstar.com/stocks/xnys/BIIB/quote\n"
     ]
    },
    {
     "name": "stderr",
     "output_type": "stream",
     "text": [
      "[WDM] - ====== WebDriver manager ======\n"
     ]
    },
    {
     "name": "stdout",
     "output_type": "stream",
     "text": [
      "Skipped due to error\n",
      "xnys block\n",
      "\n",
      "\n"
     ]
    },
    {
     "name": "stderr",
     "output_type": "stream",
     "text": [
      "[WDM] - Current google-chrome version is 90.0.4430\n",
      "[WDM] - Get LATEST driver version for 90.0.4430\n",
      "[WDM] - Driver [/Users/tourtoiseshell/.wdm/drivers/chromedriver/mac64/90.0.4430.24/chromedriver] found in cache\n"
     ]
    },
    {
     "name": "stdout",
     "output_type": "stream",
     "text": [
      "https://www.morningstar.com/stocks/xnys/DPZ/quote\n"
     ]
    },
    {
     "name": "stderr",
     "output_type": "stream",
     "text": [
      "[WDM] - ====== WebDriver manager ======\n"
     ]
    },
    {
     "name": "stdout",
     "output_type": "stream",
     "text": [
      "Skipped due to error\n",
      "xnys block\n",
      "\n",
      "\n"
     ]
    },
    {
     "name": "stderr",
     "output_type": "stream",
     "text": [
      "[WDM] - Current google-chrome version is 90.0.4430\n",
      "[WDM] - Get LATEST driver version for 90.0.4430\n",
      "[WDM] - Driver [/Users/tourtoiseshell/.wdm/drivers/chromedriver/mac64/90.0.4430.24/chromedriver] found in cache\n"
     ]
    },
    {
     "name": "stdout",
     "output_type": "stream",
     "text": [
      "https://www.morningstar.com/stocks/xnys/ORLY/quote\n"
     ]
    },
    {
     "name": "stderr",
     "output_type": "stream",
     "text": [
      "[WDM] - ====== WebDriver manager ======\n",
      "[WDM] - Current google-chrome version is 90.0.4430\n",
      "[WDM] - Get LATEST driver version for 90.0.4430\n"
     ]
    },
    {
     "name": "stdout",
     "output_type": "stream",
     "text": [
      "Skipped due to error\n",
      "xnys block\n",
      "\n",
      "\n"
     ]
    },
    {
     "name": "stderr",
     "output_type": "stream",
     "text": [
      "[WDM] - Driver [/Users/tourtoiseshell/.wdm/drivers/chromedriver/mac64/90.0.4430.24/chromedriver] found in cache\n"
     ]
    },
    {
     "name": "stdout",
     "output_type": "stream",
     "text": [
      "https://www.morningstar.com/stocks/xnys/ORCL/quote\n",
      "Skipped due to error\n",
      "[{'body': 'Apple reported fiscal first-quarter results ahead of our '\n",
      "          'expectations led by the iPhone segment. The firm did not provide '\n",
      "          'guidance the last three quarters and once more refrained from '\n",
      "          'offering specific financial expectations due to uncertainty '\n",
      "          'regarding COVID-19. Apple’s iPhone revenue grew 17% year over year '\n",
      "          'to a quarterly record $65.6 billion, thanks to the new 5G iPhone 12 '\n",
      "          'family. Although we anticipate strong double-digit iPhone growth in '\n",
      "          '2021, we think growth rates will moderate in the coming years. We '\n",
      "          'are raising our fair value estimate for narrow-moat Apple to $98 '\n",
      "          'per share from $85 as we incorporate a stronger near-term outlook '\n",
      "          'due to the current 5G iPhone cycle and ongoing work- and '\n",
      "          'learning-from-home dynamics bolstering Mac and iPad segments. '\n",
      "          'Nonetheless, we think shares are currently overvalued, as we think '\n",
      "          'recent growth trends could be unsustainable past 2021.',\n",
      "  'tckr': 'aapl',\n",
      "  'title': '\\n'\n",
      "           '\\t\\t\\t\\t\\t\\tApple’s iPhone 12 Launch Propels December Quarter '\n",
      "           'Sales to Record Heights; Raising FVE to $98\\n'\n",
      "           '\\t\\t\\t\\t\\t'},\n",
      " {'body': 'Apple reported fiscal first-quarter results ahead of our '\n",
      "          'expectations led by the iPhone segment. The firm did not provide '\n",
      "          'guidance the last three quarters and once more refrained from '\n",
      "          'offering specific financial expectations due to uncertainty '\n",
      "          'regarding COVID-19. Apple’s iPhone revenue grew 17% year over year '\n",
      "          'to a quarterly record $65.6 billion, thanks to the new 5G iPhone 12 '\n",
      "          'family. Although we anticipate strong double-digit iPhone growth in '\n",
      "          '2021, we think growth rates will moderate in the coming years. We '\n",
      "          'are raising our fair value estimate for narrow-moat Apple to $98 '\n",
      "          'per share from $85 as we incorporate a stronger near-term outlook '\n",
      "          'due to the current 5G iPhone cycle and ongoing work- and '\n",
      "          'learning-from-home dynamics bolstering Mac and iPad segments. '\n",
      "          'Nonetheless, we think shares are currently overvalued, as we think '\n",
      "          'recent growth trends could be unsustainable past 2021.',\n",
      "  'tckr': 'aapl',\n",
      "  'title': '\\n'\n",
      "           '\\t\\t\\t\\t\\t\\tApple’s iPhone 12 Launch Propels December Quarter '\n",
      "           'Sales to Record Heights; Raising FVE to $98\\n'\n",
      "           '\\t\\t\\t\\t\\t'},\n",
      " {'body': 'Second-quarter performance at narrow-moat AutoZone built on recent '\n",
      "          'momentum, with 15% same-store sales growth coming after 12% in the '\n",
      "          'first quarter. The expansion will moderate (likely into the '\n",
      "          'midsingle digits for the full year), but the brisk growth across '\n",
      "          'the do-it-yourself and professional segments suggests that the firm '\n",
      "          'remains in hale health despite pandemic-related volatility. We '\n",
      "          'still expect mid-single-digit top-line growth and high-teens '\n",
      "          'operating margins long term.',\n",
      "  'tckr': 'AZO',\n",
      "  'title': '\\n'\n",
      "           '\\t\\t\\t\\t\\t\\tSales Continue to Surge at AutoZone, With Encouraging '\n",
      "           'Channel Balance, but Shares Trade Fairly\\n'\n",
      "           '\\t\\t\\t\\t\\t'},\n",
      " {'body': 'With narrow-moat Chipotle’s stock remaining on a tear heading into '\n",
      "          'its first-quarter earnings release, we believe investors were keen '\n",
      "          'to find out how tenuous its spot on the perch would prove to be. '\n",
      "          'Strong execution, particularly around strategic growth themes like '\n",
      "          'digital and convenience, supported another quarter of solid results '\n",
      "          '(revenue in line and earnings ahead of FactSet consensus, '\n",
      "          'respectively). Uncertainty continues to litter the horizon '\n",
      "          '(evidenced by management’s unwillingness to give full-year comp '\n",
      "          'guidance), but at least for now, the firm continues to dispel any '\n",
      "          'concerns about the frailty of its momentum. Incorporating time '\n",
      "          'value since our last update, in conjunction with a slightly better '\n",
      "          'comp outlook, should increase our $1,100 fair value estimate by a '\n",
      "          'high-single-digit percentage. Nevertheless, we continue to see the '\n",
      "          'current valuation as irreconcilably rich. The assumptions implied '\n",
      "          'by today’s market price stretch credulity, in our view, and seem '\n",
      "          'divorced from the very real potential for execution missteps and '\n",
      "          'competitive fervor as the pandemic eases.',\n",
      "  'tckr': 'CMG',\n",
      "  'title': '\\n'\n",
      "           '\\t\\t\\t\\t\\t\\tDigital Ecosystem and Stimulus Funds Buoy Q2 Results '\n",
      "           'at Chipotle; We Still Struggle with Valuation\\n'\n",
      "           '\\t\\t\\t\\t\\t'},\n",
      " {'body': '2020 was an eventful year for Waste Management. The wide-moat-rated '\n",
      "          'firm had to navigate through a difficult operating environment amid '\n",
      "          'the pandemic while also completing its $4.6 billion acquisition of '\n",
      "          'Advanced Disposal Services, which closed on Oct. 30. After two '\n",
      "          'challenging quarters, Waste Management once again achieved organic '\n",
      "          'revenue growth, with total average yield of 3.1% more than '\n",
      "          'offsetting a 2.6% volume decline. The ADS acquisition added an '\n",
      "          'additional 5.3% of growth, and total fourth-quarter revenue '\n",
      "          'increased 5.7% year over year. Full-year 2020 revenue was down 1.5% '\n",
      "          'compared with the prior year.',\n",
      "  'tckr': 'WM',\n",
      "  'title': '\\n'\n",
      "           '\\t\\t\\t\\t\\t\\tWaste Management Returns to Growth As Its End Markets '\n",
      "           'Recover; More ADS Synergies To Come in 2021\\n'\n",
      "           '\\t\\t\\t\\t\\t'},\n",
      " {'body': '2020 was an eventful year for Waste Management. The wide-moat-rated '\n",
      "          'firm had to navigate through a difficult operating environment amid '\n",
      "          'the pandemic while also completing its $4.6 billion acquisition of '\n",
      "          'Advanced Disposal Services, which closed on Oct. 30. After two '\n",
      "          'challenging quarters, Waste Management once again achieved organic '\n",
      "          'revenue growth, with total average yield of 3.1% more than '\n",
      "          'offsetting a 2.6% volume decline. The ADS acquisition added an '\n",
      "          'additional 5.3% of growth, and total fourth-quarter revenue '\n",
      "          'increased 5.7% year over year. Full-year 2020 revenue was down 1.5% '\n",
      "          'compared with the prior year.',\n",
      "  'tckr': 'WM',\n",
      "  'title': '\\n'\n",
      "           '\\t\\t\\t\\t\\t\\tWaste Management Returns to Growth As Its End Markets '\n",
      "           'Recover; More ADS Synergies To Come in 2021\\n'\n",
      "           '\\t\\t\\t\\t\\t'},\n",
      " {'body': '2020 was an eventful year for Waste Management. The wide-moat-rated '\n",
      "          'firm had to navigate through a difficult operating environment amid '\n",
      "          'the pandemic while also completing its $4.6 billion acquisition of '\n",
      "          'Advanced Disposal Services, which closed on Oct. 30. After two '\n",
      "          'challenging quarters, Waste Management once again achieved organic '\n",
      "          'revenue growth, with total average yield of 3.1% more than '\n",
      "          'offsetting a 2.6% volume decline. The ADS acquisition added an '\n",
      "          'additional 5.3% of growth, and total fourth-quarter revenue '\n",
      "          'increased 5.7% year over year. Full-year 2020 revenue was down 1.5% '\n",
      "          'compared with the prior year.',\n",
      "  'tckr': 'WM',\n",
      "  'title': '\\n'\n",
      "           '\\t\\t\\t\\t\\t\\tWaste Management Returns to Growth As Its End Markets '\n",
      "           'Recover; More ADS Synergies To Come in 2021\\n'\n",
      "           '\\t\\t\\t\\t\\t'},\n",
      " {'body': 'Domino’s fourth-quarter U.S. comps of 11.2% fell slightly short of '\n",
      "          'our 12.2% expectation, but we still believe the firm is '\n",
      "          'well-positioned for growth. Store openings picked up at the end of '\n",
      "          'the year, closing out the fourth quarter with 388 total net new '\n",
      "          'units (far surpassing our expectation of 43 net new units for the '\n",
      "          'quarter). These additional openings were driven by strong growth in '\n",
      "          'domestic and international markets (with 103 and 242 more than '\n",
      "          'expected, respectively). Lower supply chain costs lifted the firm’s '\n",
      "          'fourth-quarter operating margins up 26 basis points (to 18.0%) '\n",
      "          'compared with last year. As the firm continues to leverage costs '\n",
      "          'and run a more efficient supply chain, we anticipate operating '\n",
      "          'margins will reach just over 20% by 2029.',\n",
      "  'tckr': 'DPZ',\n",
      "  'title': '\\n'\n",
      "           '\\t\\t\\t\\t\\t\\tDomino’s Delivers Strong Unit Growth in Q4; Continues '\n",
      "           'to Invest in Technology to Support Its Edge\\n'\n",
      "           '\\t\\t\\t\\t\\t'},\n",
      " {'body': 'Domino’s fourth-quarter U.S. comps of 11.2% fell slightly short of '\n",
      "          'our 12.2% expectation, but we still believe the firm is '\n",
      "          'well-positioned for growth. Store openings picked up at the end of '\n",
      "          'the year, closing out the fourth quarter with 388 total net new '\n",
      "          'units (far surpassing our expectation of 43 net new units for the '\n",
      "          'quarter). These additional openings were driven by strong growth in '\n",
      "          'domestic and international markets (with 103 and 242 more than '\n",
      "          'expected, respectively). Lower supply chain costs lifted the firm’s '\n",
      "          'fourth-quarter operating margins up 26 basis points (to 18.0%) '\n",
      "          'compared with last year. As the firm continues to leverage costs '\n",
      "          'and run a more efficient supply chain, we anticipate operating '\n",
      "          'margins will reach just over 20% by 2029.',\n",
      "  'tckr': 'DPZ',\n",
      "  'title': '\\n'\n",
      "           '\\t\\t\\t\\t\\t\\tDomino’s Delivers Strong Unit Growth in Q4; Continues '\n",
      "           'to Invest in Technology to Support Its Edge\\n'\n",
      "           '\\t\\t\\t\\t\\t'},\n",
      " {'body': 'Oracle’s third-quarter top line results marked the highest '\n",
      "          'year-over-year growth in three years trailing, as Oracle’s cloud '\n",
      "          'ERP software growth is better offsetting in declines in its legacy '\n",
      "          'business. While the record-breaking growth was only a meager 3% and '\n",
      "          'was in line with our forecast, for Oracle, this is substantial, as '\n",
      "          'the last several years have been tainted with headwinds from cloud '\n",
      "          'migrations. But the nice and steady progress and non-GAAP EPS beat '\n",
      "          'compared to our previous estimates were overshadowed by Larry '\n",
      "          \"Ellison’s lengthy litany of ERP customers it's won from SAP. We \"\n",
      "          'found the recitation to be unnecessary, especially considering part '\n",
      "          'of this list included companies in which only partial '\n",
      "          'functionalities of the ERP migrated to Oracle, which provides '\n",
      "          'little insight considering the many dissections of the ERP '\n",
      "          'ecosystem. Additionally, SAP should not be Oracle’s sole worry, as '\n",
      "          'the advent of the cloud has given way to new competitors in ERP and '\n",
      "          'database software--from Workday to Amazon RDS. Shares are down 7% '\n",
      "          'upon results to $67 per share, which we believe is a correction for '\n",
      "          'unfounded exuberance this past year. Despite the market’s reaction, '\n",
      "          'fourth quarter guidance was better than we expected, which has led '\n",
      "          'us to improve top-line assumptions over the next five years. As a '\n",
      "          'result, we are raising our fair value estimate to $58 per share '\n",
      "          'from $53 per share for narrow-moat Oracle.',\n",
      "  'tckr': 'ORCL',\n",
      "  'title': '\\n'\n",
      "           '\\t\\t\\t\\t\\t\\tOracle’s Q3 Call Provides a Litany of Customers '\n",
      "           'They’ve Won From SAP; but SAP Isn’t Only Threat\\n'\n",
      "           '\\t\\t\\t\\t\\t'}]\n"
     ]
    }
   ],
   "source": [
    "\n",
    "\n",
    "news_info = []\n",
    "\n",
    "for i in top10:\n",
    "    try:\n",
    "        print('xnys block')\n",
    "        executable_path = {'executable_path': ChromeDriverManager().install()}\n",
    "        browser = Browser('chrome', **executable_path, headless=False)\n",
    "        article = {}\n",
    "        url = f\"https://www.morningstar.com/stocks/xnys/{i}/quote\"\n",
    "        print(url)\n",
    "        browser.visit(url)\n",
    "\n",
    "        try:\n",
    "            html = browser.html\n",
    "            soup = BeautifulSoup(html, \"html.parser\")\n",
    "            title = soup.find('h3', class_='mdc-header__title mds-header__title mdc-header__title--thin').get_text()\n",
    "            body = soup.find('p', class_='mdc-article-paragraph').get_text()\n",
    "            tckr = i\n",
    "        except:\n",
    "            pass\n",
    "        news_info.append({\"title\": title,\n",
    "                      'body': body,\n",
    "                         'tckr': tckr})\n",
    "\n",
    "        # Quit the browser\n",
    "        browser.quit()\n",
    "\n",
    "    except:\n",
    "        print('nsax block')\n",
    "        browser.quit() \n",
    "        executable_path = {'executable_path': ChromeDriverManager().install()}\n",
    "        browser = Browser('chrome', **executable_path, headless=False)\n",
    "        article = {}\n",
    "        url = f\"https://www.morningstar.com/stocks/xnas/{i}/quote\"\n",
    "        print(url)\n",
    "        browser.visit(url)\n",
    "\n",
    "        html = browser.html\n",
    "        soup = BeautifulSoup(html, \"html.parser\")\n",
    "        title = soup.find('h3', class_='mdc-header__title mds-header__title mdc-header__title--thin').get_text()\n",
    "        body = soup.find('p', class_='mdc-article-paragraph').get_text()\n",
    "        tckr = i\n",
    "\n",
    "        news_info.append({\"title\": title,\n",
    "                      'body': body, \n",
    "                         'tckr': tckr})\n",
    "\n",
    "        # Quit the browser\n",
    "        browser.quit()\n",
    "    else:\n",
    "        print('Skipped due to error')\n",
    "        pass\n",
    "\n",
    "\n",
    "pprint(news_info)"
   ]
  },
  {
   "cell_type": "code",
   "execution_count": 26,
   "metadata": {},
   "outputs": [
    {
     "name": "stdout",
     "output_type": "stream",
     "text": [
      "[{'body': 'Apple reported fiscal first-quarter results ahead of our '\n",
      "          'expectations led by the iPhone segment. The firm did not provide '\n",
      "          'guidance the last three quarters and once more refrained from '\n",
      "          'offering specific financial expectations due to uncertainty '\n",
      "          'regarding COVID-19. Apple’s iPhone revenue grew 17% year over year '\n",
      "          'to a quarterly record $65.6 billion, thanks to the new 5G iPhone 12 '\n",
      "          'family. Although we anticipate strong double-digit iPhone growth in '\n",
      "          '2021, we think growth rates will moderate in the coming years. We '\n",
      "          'are raising our fair value estimate for narrow-moat Apple to $98 '\n",
      "          'per share from $85 as we incorporate a stronger near-term outlook '\n",
      "          'due to the current 5G iPhone cycle and ongoing work- and '\n",
      "          'learning-from-home dynamics bolstering Mac and iPad segments. '\n",
      "          'Nonetheless, we think shares are currently overvalued, as we think '\n",
      "          'recent growth trends could be unsustainable past 2021.',\n",
      "  'tckr': 'aapl',\n",
      "  'title': '\\n'\n",
      "           '\\t\\t\\t\\t\\t\\tApple’s iPhone 12 Launch Propels December Quarter '\n",
      "           'Sales to Record Heights; Raising FVE to $98\\n'\n",
      "           '\\t\\t\\t\\t\\t'},\n",
      " {'body': 'Apple reported fiscal first-quarter results ahead of our '\n",
      "          'expectations led by the iPhone segment. The firm did not provide '\n",
      "          'guidance the last three quarters and once more refrained from '\n",
      "          'offering specific financial expectations due to uncertainty '\n",
      "          'regarding COVID-19. Apple’s iPhone revenue grew 17% year over year '\n",
      "          'to a quarterly record $65.6 billion, thanks to the new 5G iPhone 12 '\n",
      "          'family. Although we anticipate strong double-digit iPhone growth in '\n",
      "          '2021, we think growth rates will moderate in the coming years. We '\n",
      "          'are raising our fair value estimate for narrow-moat Apple to $98 '\n",
      "          'per share from $85 as we incorporate a stronger near-term outlook '\n",
      "          'due to the current 5G iPhone cycle and ongoing work- and '\n",
      "          'learning-from-home dynamics bolstering Mac and iPad segments. '\n",
      "          'Nonetheless, we think shares are currently overvalued, as we think '\n",
      "          'recent growth trends could be unsustainable past 2021.',\n",
      "  'tckr': 'aapl',\n",
      "  'title': '\\n'\n",
      "           '\\t\\t\\t\\t\\t\\tApple’s iPhone 12 Launch Propels December Quarter '\n",
      "           'Sales to Record Heights; Raising FVE to $98\\n'\n",
      "           '\\t\\t\\t\\t\\t'},\n",
      " {'body': 'Second-quarter performance at narrow-moat AutoZone built on recent '\n",
      "          'momentum, with 15% same-store sales growth coming after 12% in the '\n",
      "          'first quarter. The expansion will moderate (likely into the '\n",
      "          'midsingle digits for the full year), but the brisk growth across '\n",
      "          'the do-it-yourself and professional segments suggests that the firm '\n",
      "          'remains in hale health despite pandemic-related volatility. We '\n",
      "          'still expect mid-single-digit top-line growth and high-teens '\n",
      "          'operating margins long term.',\n",
      "  'tckr': 'AZO',\n",
      "  'title': '\\n'\n",
      "           '\\t\\t\\t\\t\\t\\tSales Continue to Surge at AutoZone, With Encouraging '\n",
      "           'Channel Balance, but Shares Trade Fairly\\n'\n",
      "           '\\t\\t\\t\\t\\t'},\n",
      " {'body': 'With narrow-moat Chipotle’s stock remaining on a tear heading into '\n",
      "          'its first-quarter earnings release, we believe investors were keen '\n",
      "          'to find out how tenuous its spot on the perch would prove to be. '\n",
      "          'Strong execution, particularly around strategic growth themes like '\n",
      "          'digital and convenience, supported another quarter of solid results '\n",
      "          '(revenue in line and earnings ahead of FactSet consensus, '\n",
      "          'respectively). Uncertainty continues to litter the horizon '\n",
      "          '(evidenced by management’s unwillingness to give full-year comp '\n",
      "          'guidance), but at least for now, the firm continues to dispel any '\n",
      "          'concerns about the frailty of its momentum. Incorporating time '\n",
      "          'value since our last update, in conjunction with a slightly better '\n",
      "          'comp outlook, should increase our $1,100 fair value estimate by a '\n",
      "          'high-single-digit percentage. Nevertheless, we continue to see the '\n",
      "          'current valuation as irreconcilably rich. The assumptions implied '\n",
      "          'by today’s market price stretch credulity, in our view, and seem '\n",
      "          'divorced from the very real potential for execution missteps and '\n",
      "          'competitive fervor as the pandemic eases.',\n",
      "  'tckr': 'CMG',\n",
      "  'title': '\\n'\n",
      "           '\\t\\t\\t\\t\\t\\tDigital Ecosystem and Stimulus Funds Buoy Q2 Results '\n",
      "           'at Chipotle; We Still Struggle with Valuation\\n'\n",
      "           '\\t\\t\\t\\t\\t'},\n",
      " {'body': '2020 was an eventful year for Waste Management. The wide-moat-rated '\n",
      "          'firm had to navigate through a difficult operating environment amid '\n",
      "          'the pandemic while also completing its $4.6 billion acquisition of '\n",
      "          'Advanced Disposal Services, which closed on Oct. 30. After two '\n",
      "          'challenging quarters, Waste Management once again achieved organic '\n",
      "          'revenue growth, with total average yield of 3.1% more than '\n",
      "          'offsetting a 2.6% volume decline. The ADS acquisition added an '\n",
      "          'additional 5.3% of growth, and total fourth-quarter revenue '\n",
      "          'increased 5.7% year over year. Full-year 2020 revenue was down 1.5% '\n",
      "          'compared with the prior year.',\n",
      "  'tckr': 'WM',\n",
      "  'title': '\\n'\n",
      "           '\\t\\t\\t\\t\\t\\tWaste Management Returns to Growth As Its End Markets '\n",
      "           'Recover; More ADS Synergies To Come in 2021\\n'\n",
      "           '\\t\\t\\t\\t\\t'},\n",
      " {'body': '2020 was an eventful year for Waste Management. The wide-moat-rated '\n",
      "          'firm had to navigate through a difficult operating environment amid '\n",
      "          'the pandemic while also completing its $4.6 billion acquisition of '\n",
      "          'Advanced Disposal Services, which closed on Oct. 30. After two '\n",
      "          'challenging quarters, Waste Management once again achieved organic '\n",
      "          'revenue growth, with total average yield of 3.1% more than '\n",
      "          'offsetting a 2.6% volume decline. The ADS acquisition added an '\n",
      "          'additional 5.3% of growth, and total fourth-quarter revenue '\n",
      "          'increased 5.7% year over year. Full-year 2020 revenue was down 1.5% '\n",
      "          'compared with the prior year.',\n",
      "  'tckr': 'WM',\n",
      "  'title': '\\n'\n",
      "           '\\t\\t\\t\\t\\t\\tWaste Management Returns to Growth As Its End Markets '\n",
      "           'Recover; More ADS Synergies To Come in 2021\\n'\n",
      "           '\\t\\t\\t\\t\\t'},\n",
      " {'body': '2020 was an eventful year for Waste Management. The wide-moat-rated '\n",
      "          'firm had to navigate through a difficult operating environment amid '\n",
      "          'the pandemic while also completing its $4.6 billion acquisition of '\n",
      "          'Advanced Disposal Services, which closed on Oct. 30. After two '\n",
      "          'challenging quarters, Waste Management once again achieved organic '\n",
      "          'revenue growth, with total average yield of 3.1% more than '\n",
      "          'offsetting a 2.6% volume decline. The ADS acquisition added an '\n",
      "          'additional 5.3% of growth, and total fourth-quarter revenue '\n",
      "          'increased 5.7% year over year. Full-year 2020 revenue was down 1.5% '\n",
      "          'compared with the prior year.',\n",
      "  'tckr': 'WM',\n",
      "  'title': '\\n'\n",
      "           '\\t\\t\\t\\t\\t\\tWaste Management Returns to Growth As Its End Markets '\n",
      "           'Recover; More ADS Synergies To Come in 2021\\n'\n",
      "           '\\t\\t\\t\\t\\t'},\n",
      " {'body': 'Domino’s fourth-quarter U.S. comps of 11.2% fell slightly short of '\n",
      "          'our 12.2% expectation, but we still believe the firm is '\n",
      "          'well-positioned for growth. Store openings picked up at the end of '\n",
      "          'the year, closing out the fourth quarter with 388 total net new '\n",
      "          'units (far surpassing our expectation of 43 net new units for the '\n",
      "          'quarter). These additional openings were driven by strong growth in '\n",
      "          'domestic and international markets (with 103 and 242 more than '\n",
      "          'expected, respectively). Lower supply chain costs lifted the firm’s '\n",
      "          'fourth-quarter operating margins up 26 basis points (to 18.0%) '\n",
      "          'compared with last year. As the firm continues to leverage costs '\n",
      "          'and run a more efficient supply chain, we anticipate operating '\n",
      "          'margins will reach just over 20% by 2029.',\n",
      "  'tckr': 'DPZ',\n",
      "  'title': '\\n'\n",
      "           '\\t\\t\\t\\t\\t\\tDomino’s Delivers Strong Unit Growth in Q4; Continues '\n",
      "           'to Invest in Technology to Support Its Edge\\n'\n",
      "           '\\t\\t\\t\\t\\t'},\n",
      " {'body': 'Domino’s fourth-quarter U.S. comps of 11.2% fell slightly short of '\n",
      "          'our 12.2% expectation, but we still believe the firm is '\n",
      "          'well-positioned for growth. Store openings picked up at the end of '\n",
      "          'the year, closing out the fourth quarter with 388 total net new '\n",
      "          'units (far surpassing our expectation of 43 net new units for the '\n",
      "          'quarter). These additional openings were driven by strong growth in '\n",
      "          'domestic and international markets (with 103 and 242 more than '\n",
      "          'expected, respectively). Lower supply chain costs lifted the firm’s '\n",
      "          'fourth-quarter operating margins up 26 basis points (to 18.0%) '\n",
      "          'compared with last year. As the firm continues to leverage costs '\n",
      "          'and run a more efficient supply chain, we anticipate operating '\n",
      "          'margins will reach just over 20% by 2029.',\n",
      "  'tckr': 'DPZ',\n",
      "  'title': '\\n'\n",
      "           '\\t\\t\\t\\t\\t\\tDomino’s Delivers Strong Unit Growth in Q4; Continues '\n",
      "           'to Invest in Technology to Support Its Edge\\n'\n",
      "           '\\t\\t\\t\\t\\t'},\n",
      " {'body': 'Oracle’s third-quarter top line results marked the highest '\n",
      "          'year-over-year growth in three years trailing, as Oracle’s cloud '\n",
      "          'ERP software growth is better offsetting in declines in its legacy '\n",
      "          'business. While the record-breaking growth was only a meager 3% and '\n",
      "          'was in line with our forecast, for Oracle, this is substantial, as '\n",
      "          'the last several years have been tainted with headwinds from cloud '\n",
      "          'migrations. But the nice and steady progress and non-GAAP EPS beat '\n",
      "          'compared to our previous estimates were overshadowed by Larry '\n",
      "          \"Ellison’s lengthy litany of ERP customers it's won from SAP. We \"\n",
      "          'found the recitation to be unnecessary, especially considering part '\n",
      "          'of this list included companies in which only partial '\n",
      "          'functionalities of the ERP migrated to Oracle, which provides '\n",
      "          'little insight considering the many dissections of the ERP '\n",
      "          'ecosystem. Additionally, SAP should not be Oracle’s sole worry, as '\n",
      "          'the advent of the cloud has given way to new competitors in ERP and '\n",
      "          'database software--from Workday to Amazon RDS. Shares are down 7% '\n",
      "          'upon results to $67 per share, which we believe is a correction for '\n",
      "          'unfounded exuberance this past year. Despite the market’s reaction, '\n",
      "          'fourth quarter guidance was better than we expected, which has led '\n",
      "          'us to improve top-line assumptions over the next five years. As a '\n",
      "          'result, we are raising our fair value estimate to $58 per share '\n",
      "          'from $53 per share for narrow-moat Oracle.',\n",
      "  'tckr': 'ORCL',\n",
      "  'title': '\\n'\n",
      "           '\\t\\t\\t\\t\\t\\tOracle’s Q3 Call Provides a Litany of Customers '\n",
      "           'They’ve Won From SAP; but SAP Isn’t Only Threat\\n'\n",
      "           '\\t\\t\\t\\t\\t'}]\n"
     ]
    }
   ],
   "source": [
    "pprint(news_info)"
   ]
  },
  {
   "cell_type": "code",
   "execution_count": 27,
   "metadata": {},
   "outputs": [],
   "source": [
    "df = pd.DataFrame(news_info)"
   ]
  },
  {
   "cell_type": "code",
   "execution_count": 32,
   "metadata": {},
   "outputs": [],
   "source": [
    "client = MongoClient()\n",
    "client = MongoClient('localhost', 27017)\n",
    "db=client['stock_articles']\n",
    "colarticle=db['article']\n",
    "# colmanager.drop()"
   ]
  },
  {
   "cell_type": "code",
   "execution_count": 33,
   "metadata": {},
   "outputs": [
    {
     "name": "stdout",
     "output_type": "stream",
     "text": [
      "title    \\n\\t\\t\\t\\t\\t\\tApple’s iPhone 12 Launch Propels...\n",
      "body     Apple reported fiscal first-quarter results ah...\n",
      "tckr                                                  aapl\n",
      "Name: 0, dtype: object\n",
      "title    \\n\\t\\t\\t\\t\\t\\tApple’s iPhone 12 Launch Propels...\n",
      "body     Apple reported fiscal first-quarter results ah...\n",
      "tckr                                                  aapl\n",
      "Name: 1, dtype: object\n",
      "title    \\n\\t\\t\\t\\t\\t\\tSales Continue to Surge at AutoZ...\n",
      "body     Second-quarter performance at narrow-moat Auto...\n",
      "tckr                                                   AZO\n",
      "Name: 2, dtype: object\n",
      "title    \\n\\t\\t\\t\\t\\t\\tDigital Ecosystem and Stimulus F...\n",
      "body     With narrow-moat Chipotle’s stock remaining on...\n",
      "tckr                                                   CMG\n",
      "Name: 3, dtype: object\n",
      "title    \\n\\t\\t\\t\\t\\t\\tWaste Management Returns to Grow...\n",
      "body     2020 was an eventful year for Waste Management...\n",
      "tckr                                                    WM\n",
      "Name: 4, dtype: object\n",
      "title    \\n\\t\\t\\t\\t\\t\\tWaste Management Returns to Grow...\n",
      "body     2020 was an eventful year for Waste Management...\n",
      "tckr                                                    WM\n",
      "Name: 5, dtype: object\n",
      "title    \\n\\t\\t\\t\\t\\t\\tWaste Management Returns to Grow...\n",
      "body     2020 was an eventful year for Waste Management...\n",
      "tckr                                                    WM\n",
      "Name: 6, dtype: object\n",
      "title    \\n\\t\\t\\t\\t\\t\\tDomino’s Delivers Strong Unit Gr...\n",
      "body     Domino’s fourth-quarter U.S. comps of 11.2% fe...\n",
      "tckr                                                   DPZ\n",
      "Name: 7, dtype: object\n",
      "title    \\n\\t\\t\\t\\t\\t\\tDomino’s Delivers Strong Unit Gr...\n",
      "body     Domino’s fourth-quarter U.S. comps of 11.2% fe...\n",
      "tckr                                                   DPZ\n",
      "Name: 8, dtype: object\n",
      "title    \\n\\t\\t\\t\\t\\t\\tOracle’s Q3 Call Provides a Lita...\n",
      "body     Oracle’s third-quarter top line results marked...\n",
      "tckr                                                  ORCL\n",
      "Name: 9, dtype: object\n"
     ]
    }
   ],
   "source": [
    "for index, row in df.iterrows():\n",
    "    print (row)\n",
    "    colarticle.insert_one(row.to_dict())"
   ]
  },
  {
   "cell_type": "code",
   "execution_count": null,
   "metadata": {},
   "outputs": [],
   "source": []
  }
 ],
 "metadata": {
  "kernelspec": {
   "display_name": "Python 3",
   "language": "python",
   "name": "python3"
  },
  "language_info": {
   "codemirror_mode": {
    "name": "ipython",
    "version": 3
   },
   "file_extension": ".py",
   "mimetype": "text/x-python",
   "name": "python",
   "nbconvert_exporter": "python",
   "pygments_lexer": "ipython3",
   "version": "3.8.5"
  }
 },
 "nbformat": 4,
 "nbformat_minor": 4
}
