{
 "cells": [
  {
   "cell_type": "code",
   "execution_count": 1,
   "metadata": {},
   "outputs": [],
   "source": [
    "import pandas as pd"
   ]
  },
  {
   "cell_type": "code",
   "execution_count": 3,
   "metadata": {},
   "outputs": [],
   "source": [
    "url = 'https://en.wikipedia.org/wiki/List_of_S%26P_500_companies'"
   ]
  },
  {
   "cell_type": "code",
   "execution_count": 4,
   "metadata": {},
   "outputs": [
    {
     "data": {
      "text/plain": [
       "[    Symbol             Security SEC filings             GICS Sector  \\\n",
       " 0      MMM           3M Company     reports             Industrials   \n",
       " 1      ABT  Abbott Laboratories     reports             Health Care   \n",
       " 2     ABBV          AbbVie Inc.     reports             Health Care   \n",
       " 3     ABMD              Abiomed     reports             Health Care   \n",
       " 4      ACN            Accenture     reports  Information Technology   \n",
       " ..     ...                  ...         ...                     ...   \n",
       " 500    YUM      Yum! Brands Inc     reports  Consumer Discretionary   \n",
       " 501   ZBRA   Zebra Technologies     reports  Information Technology   \n",
       " 502    ZBH        Zimmer Biomet     reports             Health Care   \n",
       " 503   ZION        Zions Bancorp     reports              Financials   \n",
       " 504    ZTS               Zoetis     reports             Health Care   \n",
       " \n",
       "                       GICS Sub-Industry    Headquarters Location  \\\n",
       " 0              Industrial Conglomerates      St. Paul, Minnesota   \n",
       " 1                 Health Care Equipment  North Chicago, Illinois   \n",
       " 2                       Pharmaceuticals  North Chicago, Illinois   \n",
       " 3                 Health Care Equipment   Danvers, Massachusetts   \n",
       " 4        IT Consulting & Other Services          Dublin, Ireland   \n",
       " ..                                  ...                      ...   \n",
       " 500                         Restaurants     Louisville, Kentucky   \n",
       " 501  Electronic Equipment & Instruments   Lincolnshire, Illinois   \n",
       " 502               Health Care Equipment          Warsaw, Indiana   \n",
       " 503                      Regional Banks     Salt Lake City, Utah   \n",
       " 504                     Pharmaceuticals   Parsippany, New Jersey   \n",
       " \n",
       "     Date first added      CIK      Founded  \n",
       " 0         1976-08-09    66740         1902  \n",
       " 1         1964-03-31     1800         1888  \n",
       " 2         2012-12-31  1551152  2013 (1888)  \n",
       " 3         2018-05-31   815094         1981  \n",
       " 4         2011-07-06  1467373         1989  \n",
       " ..               ...      ...          ...  \n",
       " 500       1997-10-06  1041061         1997  \n",
       " 501       2019-12-23   877212         1969  \n",
       " 502       2001-08-07  1136869         1927  \n",
       " 503       2001-06-22   109380         1873  \n",
       " 504       2013-06-21  1555280         1952  \n",
       " \n",
       " [505 rows x 9 columns],\n",
       "                   Date  Added                           Removed  \\\n",
       "                   Date Ticker                  Security  Ticker   \n",
       " 0       March 22, 2021   NXPI        NXP Semiconductors     FLS   \n",
       " 1       March 22, 2021   PENN      Penn National Gaming     SLG   \n",
       " 2       March 22, 2021   GNRC          Generac Holdings     XRX   \n",
       " 3       March 22, 2021    CZR     Caesars Entertainment     VNT   \n",
       " 4    February 12, 2021   MPWR  Monolithic Power Systems     FTI   \n",
       " ..                 ...    ...                       ...     ...   \n",
       " 264   December 5, 2000    SBL       Symbol Technologies      OI   \n",
       " 265   December 5, 2000    AYE          Allegheny Energy     GRA   \n",
       " 266   December 5, 2000    ABK           Ambac Financial     CCK   \n",
       " 267      July 27, 2000   JDSU              JDS Uniphase     RAD   \n",
       " 268   December 7, 1999   YHOO                    Yahoo!     LDW   \n",
       " \n",
       "                                                                  Reason  \n",
       "             Security                                             Reason  \n",
       " 0          Flowserve                   Market capitalization change.[6]  \n",
       " 1    SL Green Realty                   Market capitalization change.[6]  \n",
       " 2              Xerox                   Market capitalization change.[6]  \n",
       " 3            Vontier                   Market capitalization change.[6]  \n",
       " 4         TechnipFMC  TechnipFMC was removed from the S&P 500 in ant...  \n",
       " ..               ...                                                ...  \n",
       " 264   Owens-Illinois                                Market Cap changes.  \n",
       " 265       W.R. Grace                                Market Cap changes.  \n",
       " 266   Crown Holdings                                Market Cap changes.  \n",
       " 267          RiteAid                            Market Cap change.[210]  \n",
       " 268          Laidlaw                            Market Cap change.[211]  \n",
       " \n",
       " [269 rows x 6 columns]]"
      ]
     },
     "execution_count": 4,
     "metadata": {},
     "output_type": "execute_result"
    }
   ],
   "source": [
    "tables = pd.read_html(url)\n",
    "tables"
   ]
  },
  {
   "cell_type": "code",
   "execution_count": 12,
   "metadata": {},
   "outputs": [
    {
     "data": {
      "text/plain": [
       "0       MMM\n",
       "1       ABT\n",
       "2      ABBV\n",
       "3      ABMD\n",
       "4       ACN\n",
       "       ... \n",
       "500     YUM\n",
       "501    ZBRA\n",
       "502     ZBH\n",
       "503    ZION\n",
       "504     ZTS\n",
       "Name: Symbol, Length: 505, dtype: object"
      ]
     },
     "execution_count": 12,
     "metadata": {},
     "output_type": "execute_result"
    }
   ],
   "source": [
    "df = tables[0]\n",
    "df=df['Symbol']\n",
    "df"
   ]
  },
  {
   "cell_type": "code",
   "execution_count": 13,
   "metadata": {},
   "outputs": [],
   "source": [
    "df.to_csv(r'./sp500list.csv', index = False)\n"
   ]
  },
  {
   "cell_type": "code",
   "execution_count": null,
   "metadata": {},
   "outputs": [],
   "source": []
  }
 ],
 "metadata": {
  "kernelspec": {
   "display_name": "Python 3",
   "language": "python",
   "name": "python3"
  },
  "language_info": {
   "codemirror_mode": {
    "name": "ipython",
    "version": 3
   },
   "file_extension": ".py",
   "mimetype": "text/x-python",
   "name": "python",
   "nbconvert_exporter": "python",
   "pygments_lexer": "ipython3",
   "version": "3.8.5"
  }
 },
 "nbformat": 4,
 "nbformat_minor": 4
}
